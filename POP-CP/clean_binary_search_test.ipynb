{
 "cells": [
  {
   "cell_type": "code",
   "execution_count": 2,
   "metadata": {},
   "outputs": [],
   "source": [
    "import popcp as popcp\n",
    "import numpy as np\n",
    "import pickle\n",
    "import time\n",
    "import warnings\n",
    "warnings.filterwarnings('ignore')"
   ]
  },
  {
   "cell_type": "code",
   "execution_count": null,
   "metadata": {},
   "outputs": [],
   "source": [
    "binary_search = {}\n",
    "dims = [2, 8, 32, 128]\n",
    "sample_sizes = [20, 200, 2000]\n",
    "\n",
    "for dim in dims:\n",
    "    for sample_size in sample_sizes:\n",
    "        start = time.time()\n",
    "        for estimated_CP in np.arange(0.5, 0.9, 0.01):\n",
    "            popcp.binary_search_CP(estimated_CP, 'regularized_pooled', sample_size//2, sample_size//2, dim, np.identity(dim), np.identity(dim), error=0.01)\n",
    "        stop = time.time()\n",
    "        duration = stop - start\n",
    "        print(duration)\n",
    "        binary_search[str(dim)+'D', sample_size] = duration/40"
   ]
  },
  {
   "cell_type": "code",
   "execution_count": null,
   "metadata": {},
   "outputs": [],
   "source": [
    "with open('binary_search_times.pickle', 'wb') as handle:\n",
    "    pickle.dump(binary_search, handle, protocol=pickle.HIGHEST_PROTOCOL)"
   ]
  }
 ],
 "metadata": {
  "kernelspec": {
   "display_name": "Python 3",
   "language": "python",
   "name": "python3"
  },
  "language_info": {
   "codemirror_mode": {
    "name": "ipython",
    "version": 3
   },
   "file_extension": ".py",
   "mimetype": "text/x-python",
   "name": "python",
   "nbconvert_exporter": "python",
   "pygments_lexer": "ipython3",
   "version": "3.8.3"
  }
 },
 "nbformat": 4,
 "nbformat_minor": 4
}
